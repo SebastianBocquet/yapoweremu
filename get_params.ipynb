{
 "cells": [
  {
   "cell_type": "code",
   "execution_count": 1,
   "id": "a25055ec-cf40-4d9f-afe8-6386bb68ff90",
   "metadata": {},
   "outputs": [
    {
     "name": "stdout",
     "output_type": "stream",
     "text": [
      "Intel MKL WARNING: Support of Intel(R) Advanced Vector Extensions (Intel(R) AVX) enabled only processors has been deprecated. Intel oneAPI Math Kernel Library will use Intel(R) Streaming SIMD Extensions 4.2 (Intel(R) SSE4.2) instructions instead.\n"
     ]
    }
   ],
   "source": [
    "import os\n",
    "import numpy as np\n",
    "from scipy.stats import qmc\n",
    "from matplotlib import pyplot as plt\n",
    "%matplotlib inline"
   ]
  },
  {
   "cell_type": "code",
   "execution_count": null,
   "id": "c884813d-aa33-46b9-a164-dd946b4db1d8",
   "metadata": {},
   "outputs": [],
   "source": []
  },
  {
   "cell_type": "code",
   "execution_count": 2,
   "id": "17a8246a-14c2-4b66-9d76-aa6609a9ba8f",
   "metadata": {},
   "outputs": [],
   "source": [
    "rng = np.random.default_rng(0)\n",
    "sampler = qmc.Sobol(d=6, scramble=False)\n",
    "sample = sampler.random_base2(m=18)"
   ]
  },
  {
   "cell_type": "code",
   "execution_count": 3,
   "id": "baf92786-476d-4c7c-94a1-54794d7a1c01",
   "metadata": {},
   "outputs": [
    {
     "data": {
      "text/plain": [
       "array([[0.     , 0.     , 0.     , 0.     , 0.     , 0.     ],\n",
       "       [0.5    , 0.5    , 0.5    , 0.5    , 0.5    , 0.5    ],\n",
       "       [0.75   , 0.25   , 0.25   , 0.25   , 0.75   , 0.75   ],\n",
       "       [0.25   , 0.75   , 0.75   , 0.75   , 0.25   , 0.25   ],\n",
       "       [0.375  , 0.375  , 0.625  , 0.875  , 0.375  , 0.125  ],\n",
       "       [0.875  , 0.875  , 0.125  , 0.375  , 0.875  , 0.625  ],\n",
       "       [0.625  , 0.125  , 0.875  , 0.625  , 0.625  , 0.875  ],\n",
       "       [0.125  , 0.625  , 0.375  , 0.125  , 0.125  , 0.375  ],\n",
       "       [0.1875 , 0.3125 , 0.9375 , 0.4375 , 0.5625 , 0.3125 ],\n",
       "       [0.6875 , 0.8125 , 0.4375 , 0.9375 , 0.0625 , 0.8125 ],\n",
       "       [0.9375 , 0.0625 , 0.6875 , 0.1875 , 0.3125 , 0.5625 ],\n",
       "       [0.4375 , 0.5625 , 0.1875 , 0.6875 , 0.8125 , 0.0625 ],\n",
       "       [0.3125 , 0.1875 , 0.3125 , 0.5625 , 0.9375 , 0.4375 ],\n",
       "       [0.8125 , 0.6875 , 0.8125 , 0.0625 , 0.4375 , 0.9375 ],\n",
       "       [0.5625 , 0.4375 , 0.0625 , 0.8125 , 0.1875 , 0.6875 ],\n",
       "       [0.0625 , 0.9375 , 0.5625 , 0.3125 , 0.6875 , 0.1875 ],\n",
       "       [0.09375, 0.46875, 0.46875, 0.65625, 0.28125, 0.96875],\n",
       "       [0.59375, 0.96875, 0.96875, 0.15625, 0.78125, 0.46875],\n",
       "       [0.84375, 0.21875, 0.21875, 0.90625, 0.53125, 0.21875],\n",
       "       [0.34375, 0.71875, 0.71875, 0.40625, 0.03125, 0.71875],\n",
       "       [0.46875, 0.09375, 0.84375, 0.28125, 0.15625, 0.84375],\n",
       "       [0.96875, 0.59375, 0.34375, 0.78125, 0.65625, 0.34375],\n",
       "       [0.71875, 0.34375, 0.59375, 0.03125, 0.90625, 0.09375],\n",
       "       [0.21875, 0.84375, 0.09375, 0.53125, 0.40625, 0.59375],\n",
       "       [0.15625, 0.15625, 0.53125, 0.84375, 0.84375, 0.65625],\n",
       "       [0.65625, 0.65625, 0.03125, 0.34375, 0.34375, 0.15625],\n",
       "       [0.90625, 0.40625, 0.78125, 0.59375, 0.09375, 0.40625],\n",
       "       [0.40625, 0.90625, 0.28125, 0.09375, 0.59375, 0.90625],\n",
       "       [0.28125, 0.28125, 0.15625, 0.21875, 0.71875, 0.53125],\n",
       "       [0.78125, 0.78125, 0.65625, 0.71875, 0.21875, 0.03125],\n",
       "       [0.53125, 0.03125, 0.40625, 0.46875, 0.46875, 0.28125],\n",
       "       [0.03125, 0.53125, 0.90625, 0.96875, 0.96875, 0.78125]])"
      ]
     },
     "execution_count": 3,
     "metadata": {},
     "output_type": "execute_result"
    }
   ],
   "source": [
    "sample[0:32]"
   ]
  },
  {
   "cell_type": "code",
   "execution_count": 4,
   "id": "525212eb-cd7b-43eb-a7ae-a89f2b7fc7c6",
   "metadata": {},
   "outputs": [
    {
     "name": "stdout",
     "output_type": "stream",
     "text": [
      "262144\n",
      "0 174762\n",
      "1 196611\n",
      "2 218627\n",
      "3 165896\n",
      "4 243128\n",
      "5 182066\n"
     ]
    }
   ],
   "source": [
    "print(len(sample))\n",
    "for i in range(6):\n",
    "    print(i, np.argmax(sample[:,i]))"
   ]
  },
  {
   "cell_type": "code",
   "execution_count": null,
   "id": "dcae7f70-2149-4788-a1e4-17a6b5f9b168",
   "metadata": {},
   "outputs": [],
   "source": []
  },
  {
   "cell_type": "code",
   "execution_count": 5,
   "id": "7b4d1da8-a596-44a3-85af-51ef4765f7b2",
   "metadata": {},
   "outputs": [],
   "source": [
    "param_names = ['Omegam', 'Omegab', 'mnu', 'h', 'w', 'z']\n",
    "ranges = np.array([[0.1, 0.5],\n",
    "                   [0.03, 0.07],\n",
    "                   [0., 0.5],\n",
    "                   [0.55, 0.85],\n",
    "                   [-2., -.33],\n",
    "                   [0., 3.]])\n",
    "np.savetxt('param_ranges.txt', ranges.T, fmt='%.3f', header=' '.join(param_names))"
   ]
  },
  {
   "cell_type": "code",
   "execution_count": 6,
   "id": "5e93f7a7-3e21-47ee-8937-125b93cb4024",
   "metadata": {},
   "outputs": [],
   "source": [
    "params = ranges[:,0] + sample*(ranges[:,1]-ranges[:,0])"
   ]
  },
  {
   "cell_type": "code",
   "execution_count": 7,
   "id": "99d73aa3-38d9-4c0f-a29b-f907b72c2590",
   "metadata": {},
   "outputs": [
    {
     "data": {
      "text/plain": [
       "array([[ 0.1       ,  0.03      ,  0.        ,  0.55      , -2.        ,\n",
       "         0.        ],\n",
       "       [ 0.3       ,  0.05      ,  0.25      ,  0.7       , -1.165     ,\n",
       "         1.5       ],\n",
       "       [ 0.4       ,  0.04      ,  0.125     ,  0.625     , -0.7475    ,\n",
       "         2.25      ],\n",
       "       ...,\n",
       "       [ 0.40000153,  0.05000046,  0.05615807,  0.57024803, -1.24466366,\n",
       "         1.92188644],\n",
       "       [ 0.30000153,  0.04000046,  0.43115807,  0.79524803, -1.66216366,\n",
       "         2.67188644],\n",
       "       [ 0.10000153,  0.06000046,  0.18115807,  0.64524803, -0.82716366,\n",
       "         1.17188644]])"
      ]
     },
     "execution_count": 7,
     "metadata": {},
     "output_type": "execute_result"
    }
   ],
   "source": [
    "params"
   ]
  },
  {
   "cell_type": "code",
   "execution_count": 8,
   "id": "df8742f2-e610-4acf-ac8b-9feed4ead380",
   "metadata": {},
   "outputs": [],
   "source": [
    "np.savetxt('params_sobol.txt', params, header=' '.join(param_names))"
   ]
  },
  {
   "cell_type": "code",
   "execution_count": null,
   "id": "dbcd7310-f4f0-44f0-a434-b09b39fcdb77",
   "metadata": {},
   "outputs": [],
   "source": []
  },
  {
   "cell_type": "code",
   "execution_count": null,
   "id": "cebe43dd-f324-4489-ae4b-e51791da315b",
   "metadata": {},
   "outputs": [],
   "source": [
    "for i in range(64):\n",
    "    os.system(\"sbatch run.sh python run_camb.py params_sobol.txt pk_nonu_%i.dat pk_tot_%i.dat sigma8_%i.dat %d %d\"%(i, i, i,\n",
    "                                                                                                                    i*2**12,\n",
    "                                                                                                                    (i+1)*2**12))"
   ]
  }
 ],
 "metadata": {
  "kernelspec": {
   "display_name": "Python 3 (ipykernel)",
   "language": "python",
   "name": "python3"
  },
  "language_info": {
   "codemirror_mode": {
    "name": "ipython",
    "version": 3
   },
   "file_extension": ".py",
   "mimetype": "text/x-python",
   "name": "python",
   "nbconvert_exporter": "python",
   "pygments_lexer": "ipython3",
   "version": "3.11.8"
  }
 },
 "nbformat": 4,
 "nbformat_minor": 5
}
